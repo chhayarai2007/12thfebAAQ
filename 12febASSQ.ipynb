{
 "cells": [
  {
   "cell_type": "markdown",
   "id": "7cdb1f99-a25f-42cb-b9ba-b0de35fff4ee",
   "metadata": {},
   "source": [
    "Q1. What is an Ex,eption in pthon? Write the difference  between Exeptions nd $ntx errors "
   ]
  },
  {
   "cell_type": "markdown",
   "id": "ff11daa2-de59-4296-8d49-c9197623c8f5",
   "metadata": {},
   "source": [
    "ans:-Errors mostly happen at compile-time like syntax error; however it can happen at runtime as well.\n",
    "Whereas an Exception occurs at runtime (checked exceptions can be detected at compile time). \n",
    "Both Error and Exception have the same parent class as Throwable\n"
   ]
  },
  {
   "cell_type": "markdown",
   "id": "fab7fb9b-139d-4498-96bf-dc4390598e7a",
   "metadata": {},
   "source": [
    "Q2.What hppens when an exception is not handled? Explian with an exmple."
   ]
  },
  {
   "cell_type": "markdown",
   "id": "37bc9a77-fdd8-4d3d-ab44-ee8462e22888",
   "metadata": {},
   "source": [
    "ans:- Exception handling is the process of responding to unwanted or\n",
    "unexpected events when a computer program runs. Exception handling deals \n",
    "with these events to avoid the program or system crashing, and without this process,\n",
    "exceptions would disrupt the normal operation of a program."
   ]
  },
  {
   "cell_type": "markdown",
   "id": "48ee7237-8ab4-4dd0-9371-63962ef631eb",
   "metadata": {},
   "source": [
    "Q3.Which Python statements are used to catch and handle exceptions?"
   ]
  },
  {
   "cell_type": "markdown",
   "id": "bdefd32d-8f60-4e47-8995-9a8c0f18f36b",
   "metadata": {},
   "source": [
    "The try-catch-finally statements are: The try statement identifies a block of statements within which an exception \n",
    "might be thrown. The catch statement must be associated with a try statement and identifies a block of statements\n",
    "that can handle a particular type of exception."
   ]
  },
  {
   "cell_type": "markdown",
   "id": "ec4e2d11-cb4d-4e90-8d83-5f984f1da91d",
   "metadata": {},
   "source": [
    "Q4.Explian with an example:   try and else     finally   raise"
   ]
  },
  {
   "cell_type": "markdown",
   "id": "1a0c1594-dd0b-4a74-8f4d-51d951527388",
   "metadata": {},
   "source": [
    "ans:-Try: This block will test the excepted error to occur\n",
    "Except:  Here you can handle the error\n",
    "Else: If there is no exception then this block will be executed\n",
    "Finally: Finally block always gets executed either exception is generated or not"
   ]
  },
  {
   "cell_type": "markdown",
   "id": "62f4abbb-3a6f-4679-b649-e1ad2772b74d",
   "metadata": {},
   "source": [
    "example:-"
   ]
  },
  {
   "cell_type": "code",
   "execution_count": 1,
   "id": "f3fa6a84-69e8-4d04-85bb-936a406976e8",
   "metadata": {},
   "outputs": [
    {
     "name": "stdout",
     "output_type": "stream",
     "text": [
      "Yeah ! Your answer is : 1\n",
      "Sorry ! You are dividing by zero \n"
     ]
    }
   ],
   "source": [
    "def divide(x, y):\n",
    "    try:\n",
    "        # Floor Division : Gives only Fractional\n",
    "        # Part as Answer\n",
    "        result = x // y\n",
    "        print(\"Yeah ! Your answer is :\", result)\n",
    "    except ZeroDivisionError:\n",
    "        print(\"Sorry ! You are dividing by zero \")\n",
    "   \n",
    "# Look at parameters and note the working of Program\n",
    "divide(3, 2)\n",
    "divide(3, 0)"
   ]
  },
  {
   "cell_type": "markdown",
   "id": "03da199f-98d5-42e4-afe0-87b797a96b3b",
   "metadata": {},
   "source": [
    "Q5.What are Custom Exceptions in python? When  do we need Custom Ex,eptions? Explian with an exmple"
   ]
  },
  {
   "cell_type": "markdown",
   "id": "a1e460aa-e531-44a4-92a2-7c30f6a639fd",
   "metadata": {},
   "source": [
    "ans:-Python has many built-in exceptions with it, apart from these built-in list python has the capability to \n",
    "provide custom exceptions to the users.\n",
    "These custom exceptions are named as user-defined exceptions.\n",
    "\n",
    "using custom exceptions can help us improve this even more, especially when we are designing our package."
   ]
  },
  {
   "cell_type": "markdown",
   "id": "7a7280c0-2deb-4435-8723-46662a8df0f4",
   "metadata": {},
   "source": [
    "q6. create custom exception class. use this class to handle an exception. in python"
   ]
  },
  {
   "cell_type": "markdown",
   "id": "7eda3559-6a7a-45cb-beb4-d7e7226435eb",
   "metadata": {},
   "source": [
    "ans:-In Python, we can define custom exceptions by creating a new class that is derived from the built-in Exception class. \n",
    "Here's the syntax to define custom exceptions,\n",
    "class CustomError(Exception): ... pass try: ..."
   ]
  }
 ],
 "metadata": {
  "kernelspec": {
   "display_name": "Python 3 (ipykernel)",
   "language": "python",
   "name": "python3"
  },
  "language_info": {
   "codemirror_mode": {
    "name": "ipython",
    "version": 3
   },
   "file_extension": ".py",
   "mimetype": "text/x-python",
   "name": "python",
   "nbconvert_exporter": "python",
   "pygments_lexer": "ipython3",
   "version": "3.10.8"
  }
 },
 "nbformat": 4,
 "nbformat_minor": 5
}
